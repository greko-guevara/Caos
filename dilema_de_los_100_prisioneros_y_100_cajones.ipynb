{
  "nbformat": 4,
  "nbformat_minor": 0,
  "metadata": {
    "colab": {
      "provenance": [],
      "include_colab_link": true
    },
    "kernelspec": {
      "name": "python3",
      "display_name": "Python 3"
    },
    "language_info": {
      "name": "python"
    }
  },
  "cells": [
    {
      "cell_type": "markdown",
      "metadata": {
        "id": "view-in-github",
        "colab_type": "text"
      },
      "source": [
        "<a href=\"https://colab.research.google.com/github/greko-guevara/Caos/blob/main/dilema_de_los_100_prisioneros_y_100_cajones.ipynb\" target=\"_parent\"><img src=\"https://colab.research.google.com/assets/colab-badge.svg\" alt=\"Open In Colab\"/></a>"
      ]
    },
    {
      "cell_type": "markdown",
      "source": [
        "#**Dilema de los 100 prisioneros y las 100 cajas**\n",
        "\n",
        "https://es.wikipedia.org/wiki/Problema_de_los_100_prisioneros#:~:text=En%20el%20dilema%20de%20los%20100%20prisioneros%2C%20cada,la%20teor%C3%ADa%20de%20la%20probabilidad%20y%20la%20combinatoria.\n",
        "\n",
        "https://youtu.be/iSNsgj1OCLA\n",
        "\n",
        "A continuación se presenta un simulador para este dilema y demostrar que siguiendo el método se puede tener una probabilidad de éxito de 0.31%\n",
        "\n"
      ],
      "metadata": {
        "id": "D7VAu0Iil4PR"
      }
    },
    {
      "cell_type": "code",
      "execution_count": null,
      "metadata": {
        "id": "3iFQhoukW87V"
      },
      "outputs": [],
      "source": [
        "import pandas as pd\n",
        "import numpy as np\n",
        "import random\n",
        "from random import shuffle\n",
        "n=1001"
      ]
    },
    {
      "cell_type": "markdown",
      "source": [
        "Algoritmo para crear las cajas y los códigos busqueda"
      ],
      "metadata": {
        "id": "xuwsq7ifmG9v"
      }
    },
    {
      "cell_type": "code",
      "source": [
        "def test_trial(n):\n",
        "  #data frame containers\n",
        "  numbers=[]\n",
        "  df = pd.DataFrame()\n",
        "  df[\"pos_original\"]=\"\"\n",
        "  df[\"random\"]=\"\"\n",
        "  df[\"count\"]=\"\"\n",
        "\n",
        "    #loop for creating the original position a\n",
        "  for j in range(1,n):\n",
        "    df.at[j,'pos_original']=float(j)\n",
        "    numbers.append(j)\n",
        "\n",
        "    #random position\n",
        "  lista_mezclada = mezclar_lista(numbers)\n",
        "\n",
        "    #uploading the random position\n",
        "  x=1\n",
        "  for j in lista_mezclada:\n",
        "    df.at[x,'random']=float(j)\n",
        "    x+=1\n",
        "\n",
        "    #coding for testing\n",
        "  nn=int(n/2)\n",
        "\n",
        "  for j in range(1,n): #the first loop is testing each position\n",
        "    x=(df.loc[j,'random'])\n",
        "    count=0\n",
        "    for s in range(1,nn): # the second loop is looking for the\n",
        "      if count==nn-2:\n",
        "        break\n",
        "      if j==x:\n",
        "        df.at[x,'count']=float(count)\n",
        "        break\n",
        "      else:\n",
        "        count+=1\n",
        "        x=df.loc[x,'random']\n",
        "        continue\n",
        "  fail=df[\"count\"].isnull().sum()/df.shape[0] # fail means one of them didnt get his value in less 50 times\n",
        "  return  fail,df #"
      ],
      "metadata": {
        "id": "YM8luvguXA4K"
      },
      "execution_count": null,
      "outputs": []
    },
    {
      "cell_type": "markdown",
      "source": [
        "función random\n",
        "https://parzibyte.me/blog/2021/03/17/python-mezclar-lista-orden-aleatorio-elementos/"
      ],
      "metadata": {
        "id": "t3lvkr8enTOh"
      }
    },
    {
      "cell_type": "code",
      "source": [
        "\n",
        "\n",
        "#coding for random position\n",
        "def mezclar_lista(numbers):\n",
        "    lista = numbers[:]\n",
        "    # Ciclo for desde 0 hasta la longitud de la lista -1\n",
        "    longitud_lista = len(lista)\n",
        "    for i in range(longitud_lista):\n",
        "        indice_aleatorio = random.randint(0, longitud_lista - 1)\n",
        "        # Intercambiar\n",
        "        temporal = lista[i]\n",
        "        lista[i] = lista[indice_aleatorio]\n",
        "        lista[indice_aleatorio] = temporal\n",
        "    # Regresarla\n",
        "    return lista"
      ],
      "metadata": {
        "id": "urExHiinHh-J"
      },
      "execution_count": null,
      "outputs": []
    },
    {
      "cell_type": "markdown",
      "source": [
        "espacio para tirar los datos y ver si hay suerte"
      ],
      "metadata": {
        "id": "TINWxZT0ncfG"
      }
    },
    {
      "cell_type": "code",
      "source": [
        "a,b= test_trial (n)\n",
        "print (\"===========================\")\n",
        "if a== 0: #it means there arent NAN\n",
        "  print(\"success\")\n",
        "else:\n",
        "  print(\"fail\")\n",
        "print (\"===========================\")\n",
        "print (b)\n"
      ],
      "metadata": {
        "colab": {
          "base_uri": "https://localhost:8080/"
        },
        "id": "LATSNjnMNBWx",
        "outputId": "ac709404-dcb9-4f17-d160-3268222527b3"
      },
      "execution_count": null,
      "outputs": [
        {
          "output_type": "stream",
          "name": "stdout",
          "text": [
            "===========================\n",
            "fail\n",
            "===========================\n",
            "     pos_original random  count\n",
            "1             1.0  478.0    NaN\n",
            "2             2.0  579.0    NaN\n",
            "3             3.0  407.0    NaN\n",
            "4             4.0  208.0    NaN\n",
            "5             5.0  137.0    NaN\n",
            "...           ...    ...    ...\n",
            "996         996.0  356.0    NaN\n",
            "997         997.0  940.0    NaN\n",
            "998         998.0  578.0    NaN\n",
            "999         999.0  406.0  166.0\n",
            "1000       1000.0   43.0    NaN\n",
            "\n",
            "[1000 rows x 3 columns]\n"
          ]
        }
      ]
    },
    {
      "cell_type": "markdown",
      "source": [
        "espacio para simular el fenómeno K veces"
      ],
      "metadata": {
        "id": "LnU9zb7pni6R"
      }
    },
    {
      "cell_type": "code",
      "source": [
        "salida=[]\n",
        "K=500\n",
        "for i in range(1,K):\n",
        "  a,b= test_trial (n)\n",
        "  salida.append(a)\n",
        "print(salida)\n",
        "salida=np.array(salida)\n",
        "fallos=np.count_nonzero(salida)/K*100 # non-cero values means somebody fails\n",
        "exito=100-fallos\n",
        "print (\"===========================\")\n",
        "print(\"el porcentaje de veces que falla es=\"+str(fallos)+ \"%\")\n",
        "print(\"el porcentaje de veces que tienen exito es=\"+str(exito)+ \"%\")\n",
        "print (\"===========================\")\n",
        "print(\"teoricamente se espera un porcentaje de exito del 31%\")\n",
        "print (\"===========================\")"
      ],
      "metadata": {
        "colab": {
          "base_uri": "https://localhost:8080/"
        },
        "id": "cfsMRc3JJLZ2",
        "outputId": "40f639e7-b2ee-47bb-8b46-d1b54e4a88d8"
      },
      "execution_count": null,
      "outputs": [
        {
          "output_type": "stream",
          "name": "stdout",
          "text": [
            "[0.0, 0.744, 0.756, 0.0, 0.0, 0.848, 0.0, 0.675, 0.561, 0.0, 0.0, 0.0, 0.0, 0.0, 0.91, 0.804, 0.529, 0.662, 0.676, 0.886, 0.0, 0.646, 0.581, 0.534, 0.0, 0.699, 0.0, 0.566, 0.687, 0.772, 0.0, 0.0, 0.578, 0.547, 0.533, 0.549, 0.759, 0.802, 0.563, 0.0, 0.0, 0.588, 0.641, 0.0, 0.597, 0.0, 0.987, 0.0, 0.65, 0.0, 0.0, 0.0, 0.0, 0.0, 0.892, 0.899, 0.811, 0.991, 0.0, 0.913, 0.736, 0.962, 0.932, 0.561, 0.0, 0.709, 0.674, 0.0, 0.686, 0.7, 0.712, 0.525, 0.562, 0.0, 0.557, 0.0, 0.566, 0.865, 0.0, 0.0, 0.554, 0.592, 0.784, 0.0, 0.0, 0.988, 0.778, 0.0, 0.53, 0.596, 0.0, 0.824, 0.581, 0.894, 0.0, 0.807, 0.0, 0.0, 0.0, 0.0, 0.819, 0.0, 0.614, 0.0, 0.54, 0.619, 0.0, 0.0, 0.0, 0.818, 0.753, 0.9, 0.0, 0.542, 0.905, 0.898, 0.857, 0.742, 0.583, 0.587, 0.827, 0.556, 0.513, 0.824, 0.533, 0.884, 0.0, 0.623, 0.508, 0.676, 0.84, 0.0, 0.735, 0.771, 0.0, 0.51, 0.575, 0.0, 0.501, 0.954, 0.667, 0.0, 0.0, 0.0, 0.781, 0.781, 0.0, 0.689, 0.0, 0.0, 0.539, 0.738, 0.0, 0.704, 0.99, 0.744, 0.0, 0.0, 0.99, 0.603, 0.954, 0.0, 0.866, 0.515, 0.0, 0.0, 0.0, 0.594, 0.785, 0.653, 0.715, 0.0, 0.883, 0.844, 0.0, 0.841, 0.607, 0.89, 0.918, 0.0, 0.0, 0.0, 0.611, 0.842, 0.0, 0.638, 0.779, 0.886, 0.524, 0.0, 0.679, 0.913, 0.0, 0.0, 0.656, 0.564, 0.681, 0.0, 0.724, 0.711, 0.77, 0.0, 0.0, 0.756, 0.898, 0.0, 0.0, 0.828, 0.51, 0.842, 0.943, 0.968, 0.776, 0.794, 0.572, 0.585, 0.841, 0.91, 0.857, 0.604, 0.534, 0.725, 0.0, 0.602, 0.0, 0.728, 0.571, 0.0, 0.499, 0.509, 0.68, 0.0, 0.0, 0.826, 0.69, 0.662, 0.0, 0.832, 0.761, 0.0, 0.897, 0.507, 0.998, 0.839, 0.647, 0.515, 0.0, 0.746, 1.0, 0.76, 0.0, 0.0, 0.0, 0.999, 0.724, 0.541, 0.568, 0.0, 0.972, 0.882, 0.735, 0.0, 0.94, 0.58, 0.682, 0.0, 0.526, 0.834, 0.936, 0.712, 0.857, 0.663, 0.0, 0.643, 0.709, 0.0, 0.836, 0.0, 0.633, 0.629, 0.672, 0.966, 0.0, 0.797, 0.824, 0.57, 0.64, 0.658, 0.0, 0.533, 0.709, 0.678, 0.907, 0.745, 0.642, 0.609, 0.533, 0.767, 0.558, 0.526, 0.0, 0.574, 0.666, 0.585, 0.0, 0.685, 0.576, 0.0, 0.0, 0.0, 0.553, 0.0, 0.973, 0.682, 0.525, 0.791, 0.542, 0.562, 0.777, 0.0, 0.807, 0.511, 0.505, 0.559, 0.761, 0.772, 0.552, 0.634, 0.637, 0.613, 0.71, 0.715, 0.0, 0.0, 0.987, 0.886, 0.884, 0.733, 0.0, 0.768, 0.81, 0.0, 0.957, 0.596, 0.0, 0.99, 0.896, 0.0, 0.0, 0.0, 0.821, 0.522, 0.0, 0.815, 0.0, 0.514, 0.508, 0.0, 0.722, 0.0, 0.746, 0.0, 0.81, 0.987, 0.0, 0.0, 0.752, 0.56, 0.603, 0.794, 0.571, 0.87, 0.562, 0.854, 0.0, 0.538, 0.534, 0.607, 0.0, 0.527, 0.997, 0.0, 0.0, 0.738, 0.604, 0.0, 0.909, 0.725, 0.631, 0.0, 0.917, 0.64, 0.677, 0.0, 0.0, 0.0, 0.583, 0.838, 0.754, 0.734, 0.0, 0.511, 0.754, 0.513, 0.755, 0.564, 0.591, 0.0, 0.712, 0.0, 0.988, 0.556, 0.0, 0.0, 0.889, 0.899, 0.0, 0.0, 0.6, 0.0, 0.693, 0.878, 0.0, 0.644, 0.0, 0.892, 0.754, 0.506, 0.928, 0.68, 0.877, 0.794, 0.954, 0.0, 0.847, 0.0, 0.655, 0.0, 0.939, 0.822, 0.0, 0.503, 0.0, 0.813, 0.0, 0.0, 0.676, 0.701, 0.883, 0.0, 0.0, 0.57, 0.815, 0.678, 0.839, 0.536, 0.524, 0.804, 0.65, 0.0, 0.915, 0.0, 0.0, 0.599, 0.995, 0.618, 0.741, 0.606, 0.0, 0.562, 0.503, 0.574, 0.513, 0.571, 0.963, 0.0, 0.933, 0.0, 0.988, 0.0, 0.0, 0.844, 0.941, 0.578, 0.796, 0.941, 0.651, 0.0, 0.957, 0.754, 0.0, 0.806, 0.0, 0.0, 0.0, 0.982, 0.655, 0.0, 0.661]\n",
            "===========================\n",
            "el porcentaje de veces que falla es=67.80000000000001%\n",
            "el porcentaje de veces que tienen exito es=32.19999999999999%\n",
            "===========================\n",
            "teoricamente se espera un porcentaje de exito del 31%\n",
            "===========================\n"
          ]
        }
      ]
    }
  ]
}